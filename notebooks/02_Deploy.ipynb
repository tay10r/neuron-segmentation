{
 "cells": [
  {
   "cell_type": "markdown",
   "id": "d6f47597",
   "metadata": {},
   "source": [
    "Objective\n",
    "=========\n",
    "\n",
    "The objective of this notebook is to publish the model and demo code in order to interact with the model on a web page."
   ]
  },
  {
   "cell_type": "markdown",
   "id": "83811937",
   "metadata": {},
   "source": [
    "## Import Modules"
   ]
  },
  {
   "cell_type": "code",
   "execution_count": 1,
   "id": "3f76fd8a",
   "metadata": {},
   "outputs": [],
   "source": [
    "# Standard Library Imports\n",
    "import base64\n",
    "import io\n",
    "from pathlib import Path\n",
    "\n",
    "# Third-Party Libraries\n",
    "from PIL import Image\n",
    "import numpy as np\n",
    "\n",
    "# MLflow for Experiment Tracking and Model Management\n",
    "import mlflow\n",
    "from mlflow import MlflowClient\n",
    "from mlflow.types.schema import Schema, ColSpec\n",
    "from mlflow.types import ParamSchema, ParamSpec\n",
    "from mlflow.models import ModelSignature\n",
    "from mlflow.pyfunc.model import PythonModel\n",
    "\n",
    "# Import Inference API\n",
    "import onnxruntime as ort\n",
    "\n",
    "# For user customizations\n",
    "from userconfig import UserConfig, open_user_config"
   ]
  },
  {
   "cell_type": "markdown",
   "id": "9b8757cf",
   "metadata": {},
   "source": [
    "## Model Definition"
   ]
  },
  {
   "cell_type": "code",
   "execution_count": 2,
   "id": "00d4a39c",
   "metadata": {},
   "outputs": [],
   "source": [
    "CLASS_COLORS = {\n",
    "    0: (0, 0, 0),       # Background\n",
    "    1: (255, 0, 0),     # Class 1\n",
    "    2: (0, 255, 0),     # Class 2\n",
    "}\n",
    "\n",
    "\n",
    "class ONNXSegmentationWrapper(PythonModel):\n",
    "\n",
    "    def load_context(self, context):\n",
    "        self.model = context.artifacts['onnx_model']\n",
    "\n",
    "    def _decode_base64_image(self, b64_string):\n",
    "        image_data = base64.b64decode(b64_string)\n",
    "        image = Image.open(io.BytesIO(image_data)).convert(\"RGB\")\n",
    "        return np.array(image)\n",
    "\n",
    "    def _preprocess(self, np_image: np.ndarray) -> np.ndarray:\n",
    "        # Transpose to CHW format and normalize if needed\n",
    "        image = np_image.transpose(2, 0, 1).astype(np.float32) / 255.0\n",
    "        return np.expand_dims(image, axis=0)\n",
    "\n",
    "    def _postprocess(self, output) -> np.ndarray:\n",
    "        # Assume output shape is [1, num_classes, H, W]\n",
    "        logits = output[0]  # take first (and only) batch\n",
    "        prediction: np.ndarray = np.argmax(logits, axis=0)  # shape: (H, W)\n",
    "\n",
    "        # Map class indices to RGB\n",
    "        h, w = prediction.shape\n",
    "        rgb_image = np.zeros((h, w, 3), dtype=np.uint8)\n",
    "        for cls, color in CLASS_COLORS.items():\n",
    "            rgb_image[prediction == cls] = color\n",
    "\n",
    "        return rgb_image\n",
    "\n",
    "    def _encode_base64_image(self, rgb_image: np.ndarray) -> str:\n",
    "        image = Image.fromarray(rgb_image)\n",
    "        buffered = io.BytesIO()\n",
    "        image.save(buffered, format='PNG')\n",
    "        return base64.b64encode(buffered.getvalue()).decode('utf-8')\n",
    "\n",
    "    def predict(self, context, model_input: list[str], params=None) -> list[str]:\n",
    "        \"\"\"\n",
    "        model_input: DataFrame with one column 'image', each row is a base64 string\n",
    "        \"\"\"\n",
    "        session = ort.InferenceSession(context.artifacts[\"onnx_model\"])\n",
    "        input_name = session.get_inputs()[0].name\n",
    "\n",
    "        results: list[str] = []\n",
    "        for b64_string in model_input:\n",
    "            np_image = self._decode_base64_image(b64_string)\n",
    "            input_tensor = self._preprocess(np_image)\n",
    "            outputs = session.run(None, {input_name: input_tensor})\n",
    "            rgb_output = self._postprocess(outputs)\n",
    "            result_b64 = self._encode_base64_image(rgb_output)\n",
    "            results.append(result_b64)\n",
    "        return results"
   ]
  },
  {
   "cell_type": "markdown",
   "id": "4747f192",
   "metadata": {},
   "source": [
    "## Log Model"
   ]
  },
  {
   "cell_type": "code",
   "execution_count": 3,
   "id": "1f34b5ab",
   "metadata": {},
   "outputs": [
    {
     "data": {
      "application/vnd.jupyter.widget-view+json": {
       "model_id": "5187e56cef0a4ec79fe5f2caeda039f3",
       "version_major": 2,
       "version_minor": 0
      },
      "text/plain": [
       "Downloading artifacts:   0%|          | 0/1 [00:00<?, ?it/s]"
      ]
     },
     "metadata": {},
     "output_type": "display_data"
    },
    {
     "data": {
      "application/vnd.jupyter.widget-view+json": {
       "model_id": "7f4fa75373aa4b25bd62da54511a9d84",
       "version_major": 2,
       "version_minor": 0
      },
      "text/plain": [
       "Downloading artifacts:   0%|          | 0/3 [00:00<?, ?it/s]"
      ]
     },
     "metadata": {},
     "output_type": "display_data"
    },
    {
     "name": "stderr",
     "output_type": "stream",
     "text": [
      "Successfully registered model 'neuron_unet'.\n",
      "Created version '1' of model 'neuron_unet'.\n"
     ]
    }
   ],
   "source": [
    "config: UserConfig = open_user_config()\n",
    "\n",
    "mlflow.set_tracking_uri(config.mlflow_tracking_uri)\n",
    "mlflow.set_experiment(config.mlflow_experiment_name)\n",
    "\n",
    "artifacts: dict[str, str] = {\n",
    "    'onnx_model': config.best_model_path,\n",
    "    'demo': config.demo_dir\n",
    "}\n",
    "\n",
    "with mlflow.start_run() as run:\n",
    "    mlflow.pyfunc.log_model(\n",
    "        artifact_path='neuron_unet',\n",
    "        python_model=ONNXSegmentationWrapper(),\n",
    "        artifacts=artifacts\n",
    "    )\n",
    "    mlflow.register_model(model_uri = f\"runs:/{run.info.run_id}/{config.model_name}\", name=config.model_name)"
   ]
  },
  {
   "cell_type": "code",
   "execution_count": null,
   "id": "593c9c85-0cda-4308-b047-33882206d6ce",
   "metadata": {},
   "outputs": [],
   "source": []
  }
 ],
 "metadata": {
  "kernelspec": {
   "display_name": "Python [conda env:base] *",
   "language": "python",
   "name": "conda-base-py"
  },
  "language_info": {
   "codemirror_mode": {
    "name": "ipython",
    "version": 3
   },
   "file_extension": ".py",
   "mimetype": "text/x-python",
   "name": "python",
   "nbconvert_exporter": "python",
   "pygments_lexer": "ipython3",
   "version": "3.12.7"
  }
 },
 "nbformat": 4,
 "nbformat_minor": 5
}
