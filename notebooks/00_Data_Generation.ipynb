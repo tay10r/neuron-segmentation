{
 "cells": [
  {
   "cell_type": "markdown",
   "id": "0a34bdba",
   "metadata": {},
   "source": [
    "Objective\n",
    "=========\n",
    "\n",
    "To train a neural network to segment neurons, we first need data to train it on.\n",
    "Our approach to this is to simulate imagery from a microscope using the geometry of digitized neuron models.\n",
    "To do this, we source the models from [NeuroMorpho](https://neuromorpho.org) and load them into the microscope simulator.\n",
    "This repository comes with a set of SWC files (the neuron models) from NeuroMorpho and can be used for this purpose."
   ]
  },
  {
   "cell_type": "markdown",
   "id": "42fe0250",
   "metadata": {},
   "source": [
    "### Get the File List"
   ]
  },
  {
   "cell_type": "code",
   "execution_count": 2,
   "id": "0caad39f",
   "metadata": {},
   "outputs": [
    {
     "name": "stdout",
     "output_type": "stream",
     "text": [
      "Found 71 files.\n"
     ]
    }
   ],
   "source": [
    "from pathlib import Path\n",
    "from random import Random\n",
    "import math\n",
    "from PIL import Image\n",
    "import neuroscope\n",
    "\n",
    "def get_swc_list() -> list[Path]:\n",
    "    entries = []\n",
    "    for entry in Path('../data/swc').glob('*/*.swc'):\n",
    "        entries.append(entry)\n",
    "    return entries\n",
    "\n",
    "swc_paths = get_swc_list()\n",
    "print(f'Found {len(swc_paths)} files.')"
   ]
  },
  {
   "cell_type": "markdown",
   "id": "ec08849f",
   "metadata": {},
   "source": [
    "### Split File List into Training and Validation Sets"
   ]
  },
  {
   "cell_type": "code",
   "execution_count": 4,
   "id": "bf121d17",
   "metadata": {},
   "outputs": [
    {
     "name": "stdout",
     "output_type": "stream",
     "text": [
      "Split data into 56 training samples and 15 validation samples.\n"
     ]
    }
   ],
   "source": [
    "import random\n",
    "\n",
    "def train_val_split(paths: list[Path], train_ratio: float = 0.8, seed: int = 0) -> tuple[list[Path], list[Path]]:\n",
    "    if not 0.0 < train_ratio < 1.0:\n",
    "        raise ValueError(f\"train_ratio must be between 0 and 1; got {train_ratio!r}\")\n",
    "    rng = random.Random(seed)\n",
    "    shuffled = paths.copy()\n",
    "    rng.shuffle(shuffled)\n",
    "    split_idx = int(len(shuffled) * train_ratio)\n",
    "    train_paths = shuffled[:split_idx]\n",
    "    val_paths   = shuffled[split_idx:]\n",
    "    return train_paths, val_paths\n",
    "\n",
    "train_swc_paths, val_swc_paths = train_val_split(swc_paths)\n",
    "print(f'Split data into {len(train_swc_paths)} training samples and {len(val_swc_paths)} validation samples.')"
   ]
  },
  {
   "cell_type": "code",
   "execution_count": 5,
   "id": "01643b2b",
   "metadata": {},
   "outputs": [
    {
     "name": "stdout",
     "output_type": "stream",
     "text": [
      "Starting rendering process. This may take a while.\n",
      "Training samples done rendering.\n",
      "Validation samples done rendering.\n"
     ]
    }
   ],
   "source": [
    "\n",
    "def open_models(swc_list: list[Path]) -> list[neuroscope.SWCModel]:\n",
    "    models: list[neuroscope.SWCModel] = []\n",
    "    for swc_path in swc_list:\n",
    "        model = neuroscope.SWCModel()\n",
    "        if not model.load_from_file(str(swc_path)):\n",
    "            print(f'failed to open {swc_path}, skipping.')\n",
    "            pass\n",
    "        models.append(model)\n",
    "    return models\n",
    "\n",
    "def render_models(swc_models: list[neuroscope.SWCModel], out_dir: Path, res: tuple[int, int] = (512, 512), fov=600, seed: int = 0):\n",
    "    out_dir.mkdir(exist_ok=True)\n",
    "    seg_scope = neuroscope.SegmentationMicroscope(res[0], res[1], vertical_fov=fov)\n",
    "    scope = neuroscope.FluorescenceMicroscope(res[0], res[1], vertical_fov=fov)\n",
    "    counter = 0\n",
    "    num_augmentations = 40\n",
    "    rng = Random(seed)\n",
    "    for model in swc_models:\n",
    "        for _ in range(num_augmentations):\n",
    "\n",
    "            tissue_config = neuroscope.TissueConfig()\n",
    "            tissue_config.coverage = rng.uniform(0.6, 1.0)\n",
    "            tissue_config.max_density = rng.uniform(0.01, 0.08)\n",
    "            tissue_config.seed = rng.randint(0, 1000)\n",
    "\n",
    "            tissue = neuroscope.Tissue()\n",
    "            tissue.set_config(tissue_config)\n",
    "\n",
    "            transform = neuroscope.Transform()\n",
    "            transform.position = neuroscope.Vec3f(rng.uniform(-100, 100), rng.uniform(-100, 100), 0)\n",
    "            transform.rotation = neuroscope.Vec3f(0, 0, rng.uniform(-math.pi, math.pi))\n",
    "\n",
    "            # segmentation\n",
    "            seg_scope.capture(model, tissue, transform)\n",
    "            seg_buffer = seg_scope.copy_rgb_buffer()\n",
    "            seg_path = out_dir / f'{counter:05}_mask.png'\n",
    "            Image.frombytes('RGB', res, seg_buffer).save(seg_path)\n",
    "\n",
    "            # real\n",
    "            scope.capture(model, tissue, transform)\n",
    "            real_buffer = scope.copy_buffer()\n",
    "            real_path = out_dir / f'{counter:05}.png'\n",
    "            Image.frombytes('L', res, real_buffer).save(real_path)\n",
    "\n",
    "            counter += 1\n",
    "\n",
    "out_dir = Path('../data/imagery')\n",
    "out_dir.mkdir(exist_ok=True)\n",
    "print('Starting rendering process. This may take a while.')\n",
    "render_models(open_models(train_swc_paths), out_dir / 'train')\n",
    "print('Training samples done rendering.')\n",
    "render_models(open_models(val_swc_paths), out_dir / 'val')\n",
    "print('Validation samples done rendering.')"
   ]
  }
 ],
 "metadata": {
  "kernelspec": {
   "display_name": ".venv",
   "language": "python",
   "name": "python3"
  },
  "language_info": {
   "codemirror_mode": {
    "name": "ipython",
    "version": 3
   },
   "file_extension": ".py",
   "mimetype": "text/x-python",
   "name": "python",
   "nbconvert_exporter": "python",
   "pygments_lexer": "ipython3",
   "version": "3.12.7"
  }
 },
 "nbformat": 4,
 "nbformat_minor": 5
}
