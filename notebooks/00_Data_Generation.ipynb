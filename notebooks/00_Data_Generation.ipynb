{
 "cells": [
  {
   "cell_type": "markdown",
   "id": "0a34bdba",
   "metadata": {},
   "source": [
    "Objective\n",
    "=========\n",
    "\n",
    "To train a neural network to segment neurons, we first need data to train it on.\n",
    "Our approach to this is to simulate imagery from a microscope using the geometry of digitized neuron models.\n",
    "To do this, we source the models from [NeuroMorpho](https://neuromorpho.org) and load them into the microscope simulator.\n",
    "This repository comes with a set of SWC files (the neuron models) from NeuroMorpho and can be used for this purpose."
   ]
  },
  {
   "cell_type": "code",
   "execution_count": 1,
   "id": "0caad39f",
   "metadata": {},
   "outputs": [],
   "source": [
    "from pathlib import Path\n",
    "from PIL import Image\n",
    "import neuroscope\n",
    "\n",
    "def get_swc_list() -> list[Path]:\n",
    "    entries = []\n",
    "    for entry in Path('../data/swc').glob('*/*.swc'):\n",
    "        entries.append(entry)\n",
    "    return entries\n",
    "\n",
    "def open_models(swc_list: list[Path]) -> list[neuroscope.SWCModel]:\n",
    "    models: list[neuroscope.SWCModel] = []\n",
    "    for swc_path in swc_list:\n",
    "        model = neuroscope.SWCModel()\n",
    "        if not model.load_from_file(str(swc_path)):\n",
    "            print(f'failed to open {swc_path}, skipping.')\n",
    "            pass\n",
    "        models.append(model)\n",
    "    return models\n",
    "\n",
    "def render_models(swc_models: list[neuroscope.SWCModel], res: tuple[int, int] = (512, 512), fov=600):\n",
    "    out_dir = Path('../data/imagery')\n",
    "    out_dir.mkdir(exist_ok=True)\n",
    "    debug_scope = neuroscope.DebugMicroscope(res[0], res[1], vertical_fov=fov)\n",
    "    scope = neuroscope.GenericFluorescentMicroscope(res[0], res[1], vertical_fov=fov)\n",
    "    counter = 0\n",
    "    for model in swc_models:\n",
    "\n",
    "        # segmentation\n",
    "        debug_scope.capture(model)\n",
    "        seg_buffer = debug_scope.copy_rgb_buffer()\n",
    "        seg_path = out_dir / f'seg_{counter:05}.png'\n",
    "        Image.frombytes('RGB', res, seg_buffer).save(seg_path)\n",
    "\n",
    "        # real\n",
    "        scope.capture(model)\n",
    "        real_buffer = scope.copy_buffer()\n",
    "        real_path = out_dir / f'{counter:05}.png'\n",
    "        Image.frombytes('L', res, real_buffer).save(real_path)\n",
    "\n",
    "        counter += 1\n",
    "    pass\n",
    "swc_paths = get_swc_list()\n",
    "swc_models = open_models(swc_paths)\n",
    "render_models(swc_models)\n"
   ]
  }
 ],
 "metadata": {
  "kernelspec": {
   "display_name": ".venv",
   "language": "python",
   "name": "python3"
  },
  "language_info": {
   "codemirror_mode": {
    "name": "ipython",
    "version": 3
   },
   "file_extension": ".py",
   "mimetype": "text/x-python",
   "name": "python",
   "nbconvert_exporter": "python",
   "pygments_lexer": "ipython3",
   "version": "3.12.7"
  }
 },
 "nbformat": 4,
 "nbformat_minor": 5
}
